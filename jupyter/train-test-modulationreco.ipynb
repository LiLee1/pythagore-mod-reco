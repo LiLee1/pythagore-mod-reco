{
 "cells": [
  {
   "cell_type": "markdown",
   "metadata": {},
   "source": [
    "# Train the networks for modulation recognition"
   ]
  },
  {
   "cell_type": "markdown",
   "metadata": {},
   "source": [
    "## Preambule"
   ]
  },
  {
   "cell_type": "code",
   "execution_count": 1,
   "metadata": {},
   "outputs": [],
   "source": [
    "# Authors: Hélion du Mas des Bourboux <helion.dumasdesbourboux'at'thalesgroup.com>\n",
    "#         Thomas Courtat <thomas.courtat'at'thalesgroup.com>\n",
    "\n",
    "# MIT License\n",
    "\n",
    "# Copyright (c) 2021 Thales Six GTS France\n",
    "\n",
    "# Permission is hereby granted, free of charge, to any person obtaining a copy\n",
    "# of this software and associated documentation files (the \"Software\"), to deal\n",
    "# in the Software without restriction, including without limitation the rights\n",
    "# to use, copy, modify, merge, publish, distribute, sublicense, and/or sell\n",
    "# copies of the Software, and to permit persons to whom the Software is\n",
    "# furnished to do so, subject to the following conditions:\n",
    "\n",
    "# The above copyright notice and this permission notice shall be included in all\n",
    "# copies or substantial portions of the Software.\n",
    "\n",
    "# THE SOFTWARE IS PROVIDED \"AS IS\", WITHOUT WARRANTY OF ANY KIND, EXPRESS OR\n",
    "# IMPLIED, INCLUDING BUT NOT LIMITED TO THE WARRANTIES OF MERCHANTABILITY,\n",
    "# FITNESS FOR A PARTICULAR PURPOSE AND NONINFRINGEMENT. IN NO EVENT SHALL THE\n",
    "# AUTHORS OR COPYRIGHT HOLDERS BE LIABLE FOR ANY CLAIM, DAMAGES OR OTHER\n",
    "# LIABILITY, WHETHER IN AN ACTION OF CONTRACT, TORT OR OTHERWISE, ARISING FROM,\n",
    "# OUT OF OR IN CONNECTION WITH THE SOFTWARE OR THE USE OR OTHER DEALINGS IN THE\n",
    "# SOFTWARE."
   ]
  },
  {
   "cell_type": "markdown",
   "metadata": {},
   "source": [
    "### Imports"
   ]
  },
  {
   "cell_type": "code",
   "execution_count": 2,
   "metadata": {},
   "outputs": [
    {
     "name": "stdout",
     "output_type": "stream",
     "text": [
      "Tensorflow version 2.2.0\n",
      "Available devices:\n",
      "['/device:CPU:0', '/device:XLA_CPU:0', '/device:XLA_GPU:0', '/device:GPU:0']\n"
     ]
    }
   ],
   "source": [
    "import sys\n",
    "from os import mkdir\n",
    "from os.path import exists as path_exists\n",
    "from os.path import join\n",
    "import time\n",
    "\n",
    "import numpy as np\n",
    "import matplotlib.pyplot as plt\n",
    "plt.rcParams['pdf.fonttype'] = 42\n",
    "\n",
    "import tensorflow.keras\n",
    "from tensorflow.keras.models import load_model\n",
    "from tensorflow.keras.utils import to_categorical\n",
    "from tensorflow.python.client import device_lib\n",
    "from tensorflow import convert_to_tensor\n",
    "from tensorflow.keras.backend import clear_session\n",
    "\n",
    "print(f'Tensorflow version {tensorflow.__version__}')\n",
    "print(f'Available devices:\\n{[x.name for x in device_lib.list_local_devices()]}')\n",
    "\n",
    "\n",
    "from pythagore_modreco.data import read_augmod, read_RML2016, read_RML2018\n",
    "from pythagore_modreco.utils import TimeHistory,split_dataset\n",
    "from pythagore_modreco import neural_nets_keras\n",
    "\n",
    "\n",
    "np.random.seed(2015)"
   ]
  },
  {
   "cell_type": "markdown",
   "metadata": {},
   "source": [
    "### General settings"
   ]
  },
  {
   "cell_type": "code",
   "execution_count": 3,
   "metadata": {},
   "outputs": [],
   "source": [
    "# Please specify the folder where your dataset(s) is/are\n",
    "data_path = <your data path>\n",
    "\n",
    "# Please specify a folder to log information during model training \n",
    "log_path = <your log path>\n",
    "\n",
    "if not path_exists(log_path):\n",
    "    mkdir(log_path)"
   ]
  },
  {
   "cell_type": "markdown",
   "metadata": {},
   "source": [
    "#### Dataset settings"
   ]
  },
  {
   "cell_type": "code",
   "execution_count": 4,
   "metadata": {},
   "outputs": [],
   "source": [
    "# Please chose a dataset name from:\n",
    "# AugMod\n",
    "# RadioML2016.04c\n",
    "# RadioML2016.10a\n",
    "# RadioML2016.10b\n",
    "# RadioML2018.01a\n",
    "dataset_name = \"AugMod\"\n",
    "\n",
    "# Please choose signal duration in seconds. \n",
    "# Beware, that duration should be less or equal to the chosen dataset signal lengths\n",
    "# Set to None if you want to take as much as there is in the dataset\n",
    "signal_duration = 1024\n",
    "\n",
    "# Please choose a cut in SNR\n",
    "# The resulting dataset will consit in all data>=snr_cut\n",
    "# set to None if no cut\n",
    "snr_cut = 0."
   ]
  },
  {
   "cell_type": "markdown",
   "metadata": {},
   "source": [
    "#### Trainning settings"
   ]
  },
  {
   "cell_type": "code",
   "execution_count": 5,
   "metadata": {},
   "outputs": [],
   "source": [
    "nb_epoch = 200\n",
    "batch_size = 512"
   ]
  },
  {
   "cell_type": "markdown",
   "metadata": {},
   "source": [
    "## Data loading and preparation"
   ]
  },
  {
   "cell_type": "markdown",
   "metadata": {},
   "source": [
    "Load the selected dataset ; \n",
    "\n",
    "This cell outputs: \n",
    "- signals : a numpy array containing signal data \n",
    "- class_onehot : a numpy array containing one hot encoded labels associated to data \n",
    "- snrs: an array associating snr to each signal \n",
    "- class_list: a list of strings associating the modulation / signal kind name to the indexes of labels"
   ]
  },
  {
   "cell_type": "code",
   "execution_count": 6,
   "metadata": {},
   "outputs": [],
   "source": [
    "if dataset_name == \"AugMod\":\n",
    "    \n",
    "    fName = join(data_path,'augmod.hdf5')\n",
    "    data_dict = read_augmod(fName)\n",
    "    \n",
    "    signals  = data_dict['signals']\n",
    "    class_idx = data_dict['modulations']\n",
    "    snrs = data_dict['snr']\n",
    "    \n",
    "    class_onehot = to_categorical(class_idx)\n",
    "    class_list = data_dict['classes']\n",
    "    \n",
    "elif dataset_name == \"RadioML2016.04c\":\n",
    "\n",
    "    fName = join(data_path,'2016.04C.multisnr.pkl')\n",
    "    \n",
    "    signals, class_idx, snrs, class_list = read_RML2016(fName)\n",
    "    class_onehot = to_categorical(class_idx)\n",
    "    \n",
    "elif dataset_name == \"RadioML2016.10a\":\n",
    "\n",
    "    fName = join(data_path,'RML2016.10a_dict.pkl')\n",
    "    \n",
    "    signals, class_idx, snrs,class_list = read_RML2016(fName)\n",
    "    class_onehot = to_categorical(class_idx)\n",
    "    \n",
    "elif dataset_name == \"RadioML2016.10b\":\n",
    "\n",
    "    fName = join(data_path,'RML2016.10b.dat')\n",
    "    \n",
    "    signals, class_idx, snrs,class_list = read_RML2016(fName)\n",
    "    class_onehot = to_categorical(class_idx)\n",
    "    \n",
    "elif dataset_name == \"RadioML2018.01a\":\n",
    "\n",
    "    fName = join(data_path,'GOLD_XYZ_OSC.0001_1024.hdf5')\n",
    "    \n",
    "    signals, class_onehot, snrs ,class_list = read_RML2018(fName)\n",
    "    #snrs = snrs.reshape(-1)\n",
    "    class_idx = np.argmax(class_onehot,axis=-1)\n",
    "else: \n",
    "    print('Data not found')"
   ]
  },
  {
   "cell_type": "code",
   "execution_count": 7,
   "metadata": {},
   "outputs": [
    {
     "name": "stdout",
     "output_type": "stream",
     "text": [
      "AugMod loaded, 174720 signal with shape (2, 1024)\n",
      "List of signal SNR: [0.0, 10.0, 20.0, 30.0, 40.0]\n",
      "List of modulations under consideration: ['BPSK', 'PSK8', 'QAM16', 'QAM32', 'QAM64', 'QAM8', 'QPSK']\n"
     ]
    }
   ],
   "source": [
    "snrs_list = sorted( list( set( snrs ) ) )\n",
    "print(f'{dataset_name} loaded, {signals.shape[0]} signal with shape {signals.shape[1:]}' )\n",
    "print(f'List of signal SNR: {snrs_list}')\n",
    "print(f'List of modulations under consideration: {class_list}')"
   ]
  },
  {
   "cell_type": "markdown",
   "metadata": {},
   "source": [
    "Transposes the data so the real/imag axis is the last as expected by deep learning models"
   ]
  },
  {
   "cell_type": "code",
   "execution_count": 8,
   "metadata": {},
   "outputs": [
    {
     "name": "stdout",
     "output_type": "stream",
     "text": [
      "Initial data shape: (174720, 2, 1024)\n",
      "Transposed data shape: (174720, 1024, 2)\n"
     ]
    }
   ],
   "source": [
    "print(f'Initial data shape: {signals.shape}')\n",
    "signals = signals.transpose((0,2,1))\n",
    "print(f'Transposed data shape: {signals.shape}' )"
   ]
  },
  {
   "cell_type": "markdown",
   "metadata": {},
   "source": [
    "Trunk signal to `signal_duration`samples. "
   ]
  },
  {
   "cell_type": "code",
   "execution_count": 9,
   "metadata": {},
   "outputs": [
    {
     "name": "stdout",
     "output_type": "stream",
     "text": [
      "Initial data shape: (174720, 1024, 2)\n",
      "Trunked data shape: (174720, 1024, 2)\n"
     ]
    }
   ],
   "source": [
    "if not signal_duration is None:\n",
    "    print(f'Initial data shape: {signals.shape}')\n",
    "    signals = signals[:,:signal_duration,:]\n",
    "    print(f'Trunked data shape: {signals.shape}' )"
   ]
  },
  {
   "cell_type": "markdown",
   "metadata": {},
   "source": [
    "Filters signal by snr if requested above"
   ]
  },
  {
   "cell_type": "code",
   "execution_count": 10,
   "metadata": {},
   "outputs": [
    {
     "name": "stdout",
     "output_type": "stream",
     "text": [
      "Initial data shape: (174720, 1024, 2)\n",
      "New data shape: (174720, 1024, 2)\n"
     ]
    }
   ],
   "source": [
    "if not snr_cut is None:\n",
    "    print(f'Initial data shape: {signals.shape}')\n",
    "    w = snrs>=snr_cut\n",
    "    signals = signals[w]\n",
    "    class_idx = class_idx[w]\n",
    "    snrs = snrs[w]\n",
    "    class_onehot = class_onehot[w]\n",
    "    print(f'New data shape: {signals.shape}' )"
   ]
  },
  {
   "cell_type": "markdown",
   "metadata": {},
   "source": [
    "Normalize the power of each signal"
   ]
  },
  {
   "cell_type": "code",
   "execution_count": 11,
   "metadata": {},
   "outputs": [],
   "source": [
    "### Normalize the power of each signal\n",
    "norm = np.sqrt(np.mean(signals**2,axis=(1,2),keepdims=True))\n",
    "signals/=norm"
   ]
  },
  {
   "cell_type": "markdown",
   "metadata": {},
   "source": [
    "Split dataset into train and test sets. Also shuffles data."
   ]
  },
  {
   "cell_type": "code",
   "execution_count": 12,
   "metadata": {},
   "outputs": [
    {
     "name": "stdout",
     "output_type": "stream",
     "text": [
      "Train dataset shape: (87360, 1024, 2)\n",
      "Test dataset shape: (87360, 1024, 2) \n"
     ]
    }
   ],
   "source": [
    "X_train, y_train, train_idx ,_,_,_, X_test,y_test,test_idx= split_dataset(signals, \n",
    "    class_onehot, \n",
    "    p_train=0.5,p_test=0.5)\n",
    "\n",
    "SNR_train = snrs[train_idx]\n",
    "SNR_test = snrs[test_idx]\n",
    "\n",
    "print(f'Train dataset shape: {X_train.shape}')\n",
    "print(f'Test dataset shape: {X_test.shape} ')"
   ]
  },
  {
   "cell_type": "code",
   "execution_count": 13,
   "metadata": {},
   "outputs": [
    {
     "name": "stdout",
     "output_type": "stream",
     "text": [
      "X_train shape: (87360, 1024, 2), y_train shape: (87360, 7)\n",
      "X_test  shape: (87360, 1024, 2), y_test  shape: (87360, 7)\n",
      "Network input shape in variable input-shp: [1024, 2]\n",
      "Network output shape in variable input-shp: 7\n"
     ]
    }
   ],
   "source": [
    "print(f'X_train shape: {X_train.shape}, y_train shape: {y_train.shape}')\n",
    "print(f'X_test  shape: {X_test.shape}, y_test  shape: {y_test.shape}')\n",
    "\n",
    "input_shp = list(X_train.shape[1:])\n",
    "output_shp = y_train.shape[1]\n",
    "\n",
    "print(f'Network input shape in variable input-shp: {input_shp}')\n",
    "print(f'Network output shape in variable input-shp: {output_shp}')"
   ]
  },
  {
   "cell_type": "code",
   "execution_count": 14,
   "metadata": {},
   "outputs": [],
   "source": [
    "X_train = convert_to_tensor(X_train)\n",
    "y_train = convert_to_tensor(y_train)\n",
    "X_test = convert_to_tensor(X_test)\n",
    "y_test = convert_to_tensor(y_test)"
   ]
  },
  {
   "cell_type": "markdown",
   "metadata": {},
   "source": [
    "## Deep learning model training "
   ]
  },
  {
   "cell_type": "markdown",
   "metadata": {},
   "source": [
    "Define a function to instanciate and train a deep learning model"
   ]
  },
  {
   "cell_type": "code",
   "execution_count": 15,
   "metadata": {},
   "outputs": [],
   "source": [
    "def train_model(model,name_network): \n",
    "    \n",
    "    clear_session()\n",
    "    time_callback = TimeHistory()\n",
    "\n",
    "    history = model.fit(X_train, y_train,\n",
    "                        epochs=nb_epoch, batch_size=batch_size,\n",
    "                        validation_data =( X_test , y_test ), \n",
    "                        verbose=1,\n",
    "                        callbacks=[time_callback])\n",
    "\n",
    "    model.save(join(log_path,'model-{}-{}-trained{}.h5'.format(dataset_name,name_network,signal_duration)))\n",
    "\n",
    "    data = np.array(list(zip(history.epoch, history.history['val_accuracy'], history.history['accuracy'])))\n",
    "    np.savetxt(join(log_path,'history-{}-{}-trained{}.txt'.format(dataset_name,name_network,signal_duration)),data)\n",
    "\n",
    "    data = np.array(list(zip(history.epoch, time_callback.times)))\n",
    "    np.savetxt(join(log_path,'history_time-{}-{}-trained{}.txt'.format(dataset_name,name_network,signal_duration)),data)\n",
    "    \n",
    "    clear_session()"
   ]
  },
  {
   "cell_type": "markdown",
   "metadata": {},
   "source": [
    "### LModCNN (ours)\n",
    "\n",
    "Generate LModCNN architecture as defined in Courtat and du Mas des Bourboux, <i>A light neural network for modulation detection under impairments</i>, ISNCC 2021\n"
   ]
  },
  {
   "cell_type": "code",
   "execution_count": 16,
   "metadata": {
    "scrolled": true
   },
   "outputs": [
    {
     "name": "stdout",
     "output_type": "stream",
     "text": [
      "Model: \"sequential\"\n",
      "_________________________________________________________________\n",
      "Layer (type)                 Output Shape              Param #   \n",
      "=================================================================\n",
      "conv1d (Conv1D)              (None, 1024, 8)           120       \n",
      "_________________________________________________________________\n",
      "conv1d_1 (Conv1D)            (None, 1024, 16)          912       \n",
      "_________________________________________________________________\n",
      "conv1d_2 (Conv1D)            (None, 1024, 32)          3616      \n",
      "_________________________________________________________________\n",
      "conv1d_3 (Conv1D)            (None, 1024, 64)          14400     \n",
      "_________________________________________________________________\n",
      "average_pooling1d (AveragePo (None, 1, 64)             0         \n",
      "_________________________________________________________________\n",
      "flatten (Flatten)            (None, 64)                0         \n",
      "_________________________________________________________________\n",
      "dense (Dense)                (None, 256)               16640     \n",
      "_________________________________________________________________\n",
      "dropout (Dropout)            (None, 256)               0         \n",
      "_________________________________________________________________\n",
      "dense_1 (Dense)              (None, 7)                 1799      \n",
      "=================================================================\n",
      "Total params: 37,487\n",
      "Trainable params: 37,487\n",
      "Non-trainable params: 0\n",
      "_________________________________________________________________\n"
     ]
    }
   ],
   "source": [
    "name_network = \"LModCNN\"\n",
    "\n",
    "model = getattr(neural_nets_keras,'get_{}'.format(name_network))(input_shp,output_shp)\n",
    "model.summary()"
   ]
  },
  {
   "cell_type": "code",
   "execution_count": null,
   "metadata": {},
   "outputs": [],
   "source": [
    "model.compile(loss='categorical_crossentropy',optimizer='adam',metrics=['accuracy'])\n",
    "train_model(model, name_network)"
   ]
  },
  {
   "cell_type": "markdown",
   "metadata": {},
   "source": [
    "### LModCNNResNet Relu (ours)\n",
    "\n",
    "Generate LModCNN with residual connexion architecture as defined in Courtat and du Mas des Bourboux, <i>A light neural network for modulation detection under impairments</i>, ISNCC 2021"
   ]
  },
  {
   "cell_type": "code",
   "execution_count": 17,
   "metadata": {
    "scrolled": true
   },
   "outputs": [
    {
     "name": "stdout",
     "output_type": "stream",
     "text": [
      "Model: \"model\"\n",
      "__________________________________________________________________________________________________\n",
      "Layer (type)                    Output Shape         Param #     Connected to                     \n",
      "==================================================================================================\n",
      "input_1 (InputLayer)            [(None, 1024, 2)]    0                                            \n",
      "__________________________________________________________________________________________________\n",
      "conv1d_4 (Conv1D)               (None, 1024, 8)      24          input_1[0][0]                    \n",
      "__________________________________________________________________________________________________\n",
      "conv1d_5 (Conv1D)               (None, 1024, 8)      456         conv1d_4[0][0]                   \n",
      "__________________________________________________________________________________________________\n",
      "conv1d_6 (Conv1D)               (None, 1024, 8)      456         conv1d_5[0][0]                   \n",
      "__________________________________________________________________________________________________\n",
      "add (Add)                       (None, 1024, 8)      0           conv1d_6[0][0]                   \n",
      "                                                                 conv1d_4[0][0]                   \n",
      "__________________________________________________________________________________________________\n",
      "activation (Activation)         (None, 1024, 8)      0           add[0][0]                        \n",
      "__________________________________________________________________________________________________\n",
      "conv1d_7 (Conv1D)               (None, 1024, 16)     144         activation[0][0]                 \n",
      "__________________________________________________________________________________________________\n",
      "conv1d_8 (Conv1D)               (None, 1024, 16)     1808        conv1d_7[0][0]                   \n",
      "__________________________________________________________________________________________________\n",
      "conv1d_9 (Conv1D)               (None, 1024, 16)     1808        conv1d_8[0][0]                   \n",
      "__________________________________________________________________________________________________\n",
      "add_1 (Add)                     (None, 1024, 16)     0           conv1d_9[0][0]                   \n",
      "                                                                 conv1d_7[0][0]                   \n",
      "__________________________________________________________________________________________________\n",
      "activation_1 (Activation)       (None, 1024, 16)     0           add_1[0][0]                      \n",
      "__________________________________________________________________________________________________\n",
      "conv1d_10 (Conv1D)              (None, 1024, 32)     544         activation_1[0][0]               \n",
      "__________________________________________________________________________________________________\n",
      "conv1d_11 (Conv1D)              (None, 1024, 32)     7200        conv1d_10[0][0]                  \n",
      "__________________________________________________________________________________________________\n",
      "conv1d_12 (Conv1D)              (None, 1024, 32)     7200        conv1d_11[0][0]                  \n",
      "__________________________________________________________________________________________________\n",
      "add_2 (Add)                     (None, 1024, 32)     0           conv1d_12[0][0]                  \n",
      "                                                                 conv1d_10[0][0]                  \n",
      "__________________________________________________________________________________________________\n",
      "activation_2 (Activation)       (None, 1024, 32)     0           add_2[0][0]                      \n",
      "__________________________________________________________________________________________________\n",
      "conv1d_13 (Conv1D)              (None, 1024, 64)     2112        activation_2[0][0]               \n",
      "__________________________________________________________________________________________________\n",
      "conv1d_14 (Conv1D)              (None, 1024, 64)     28736       conv1d_13[0][0]                  \n",
      "__________________________________________________________________________________________________\n",
      "conv1d_15 (Conv1D)              (None, 1024, 64)     28736       conv1d_14[0][0]                  \n",
      "__________________________________________________________________________________________________\n",
      "add_3 (Add)                     (None, 1024, 64)     0           conv1d_15[0][0]                  \n",
      "                                                                 conv1d_13[0][0]                  \n",
      "__________________________________________________________________________________________________\n",
      "activation_3 (Activation)       (None, 1024, 64)     0           add_3[0][0]                      \n",
      "__________________________________________________________________________________________________\n",
      "average_pooling1d_1 (AveragePoo (None, 1, 64)        0           activation_3[0][0]               \n",
      "__________________________________________________________________________________________________\n",
      "flatten_1 (Flatten)             (None, 64)           0           average_pooling1d_1[0][0]        \n",
      "__________________________________________________________________________________________________\n",
      "dense_2 (Dense)                 (None, 256)          16640       flatten_1[0][0]                  \n",
      "__________________________________________________________________________________________________\n",
      "dropout_1 (Dropout)             (None, 256)          0           dense_2[0][0]                    \n",
      "__________________________________________________________________________________________________\n",
      "dense_3 (Dense)                 (None, 7)            1799        dropout_1[0][0]                  \n",
      "==================================================================================================\n",
      "Total params: 97,663\n",
      "Trainable params: 97,663\n",
      "Non-trainable params: 0\n",
      "__________________________________________________________________________________________________\n"
     ]
    }
   ],
   "source": [
    "name_network = \"LModCNNResNetRelu\"\n",
    "\n",
    "model = getattr(neural_nets_keras,'get_{}'.format(name_network))(input_shp,output_shp)\n",
    "model.summary()"
   ]
  },
  {
   "cell_type": "code",
   "execution_count": null,
   "metadata": {},
   "outputs": [],
   "source": [
    "model.compile(loss='categorical_crossentropy',optimizer='adam',metrics=['accuracy'])\n",
    "train_model(model, name_network)"
   ]
  },
  {
   "cell_type": "markdown",
   "metadata": {},
   "source": [
    "### RMLConvNet\n",
    "\n",
    "Generate RMLConvNet as defined in O'Shea et Al., <i>Convolutional radio modulation recognition networks</i>, 2016\n",
    "The implementation is an adaptation of\n",
    "https://github.com/radioML/examples/blob/master/modulation_recognition/RML2016.10a_VTCNN2_example.ipynb\n"
   ]
  },
  {
   "cell_type": "code",
   "execution_count": 18,
   "metadata": {
    "scrolled": true
   },
   "outputs": [
    {
     "name": "stdout",
     "output_type": "stream",
     "text": [
      "Model: \"sequential_1\"\n",
      "_________________________________________________________________\n",
      "Layer (type)                 Output Shape              Param #   \n",
      "=================================================================\n",
      "reshape (Reshape)            (None, 1024, 2, 1)        0         \n",
      "_________________________________________________________________\n",
      "zero_padding2d (ZeroPadding2 (None, 1028, 2, 1)        0         \n",
      "_________________________________________________________________\n",
      "conv2d (Conv2D)              (None, 1026, 2, 256)      1024      \n",
      "_________________________________________________________________\n",
      "dropout_2 (Dropout)          (None, 1026, 2, 256)      0         \n",
      "_________________________________________________________________\n",
      "zero_padding2d_1 (ZeroPaddin (None, 1030, 2, 256)      0         \n",
      "_________________________________________________________________\n",
      "conv2d_1 (Conv2D)            (None, 1028, 1, 80)       122960    \n",
      "_________________________________________________________________\n",
      "dropout_3 (Dropout)          (None, 1028, 1, 80)       0         \n",
      "_________________________________________________________________\n",
      "flatten_2 (Flatten)          (None, 82240)             0         \n",
      "_________________________________________________________________\n",
      "dense_4 (Dense)              (None, 256)               21053696  \n",
      "_________________________________________________________________\n",
      "dropout_4 (Dropout)          (None, 256)               0         \n",
      "_________________________________________________________________\n",
      "dense_5 (Dense)              (None, 7)                 1799      \n",
      "=================================================================\n",
      "Total params: 21,179,479\n",
      "Trainable params: 21,179,479\n",
      "Non-trainable params: 0\n",
      "_________________________________________________________________\n"
     ]
    }
   ],
   "source": [
    "name_network = \"RMLConvNet\"\n",
    "\n",
    "model = getattr(neural_nets_keras,'get_{}'.format(name_network))(input_shp,output_shp)\n",
    "model.summary()"
   ]
  },
  {
   "cell_type": "code",
   "execution_count": null,
   "metadata": {},
   "outputs": [],
   "source": [
    "model.compile(loss='categorical_crossentropy',optimizer='adam',metrics=['accuracy'])\n",
    "train_model(model, name_network)"
   ]
  },
  {
   "cell_type": "markdown",
   "metadata": {},
   "source": [
    "### RMLCNNVGG\n",
    "\n",
    "Generate RML CNN/VGG  as defined in O'Shea et Al., <i>Over-the-Air Deep Learning Based Radio Signal Classification</i>,  2018. The implementation is an adaptation of https://github.com/leena201818/radioml/blob/master/rmlmodels/VGGLikeModel.py\n"
   ]
  },
  {
   "cell_type": "code",
   "execution_count": 19,
   "metadata": {
    "scrolled": true
   },
   "outputs": [
    {
     "name": "stdout",
     "output_type": "stream",
     "text": [
      "Model: \"sequential_2\"\n",
      "_________________________________________________________________\n",
      "Layer (type)                 Output Shape              Param #   \n",
      "=================================================================\n",
      "conv1d_16 (Conv1D)           (None, 1024, 64)          960       \n",
      "_________________________________________________________________\n",
      "max_pooling1d (MaxPooling1D) (None, 512, 64)           0         \n",
      "_________________________________________________________________\n",
      "conv1d_17 (Conv1D)           (None, 512, 64)           28736     \n",
      "_________________________________________________________________\n",
      "max_pooling1d_1 (MaxPooling1 (None, 256, 64)           0         \n",
      "_________________________________________________________________\n",
      "conv1d_18 (Conv1D)           (None, 256, 64)           28736     \n",
      "_________________________________________________________________\n",
      "max_pooling1d_2 (MaxPooling1 (None, 128, 64)           0         \n",
      "_________________________________________________________________\n",
      "conv1d_19 (Conv1D)           (None, 128, 64)           28736     \n",
      "_________________________________________________________________\n",
      "max_pooling1d_3 (MaxPooling1 (None, 64, 64)            0         \n",
      "_________________________________________________________________\n",
      "conv1d_20 (Conv1D)           (None, 64, 64)            28736     \n",
      "_________________________________________________________________\n",
      "max_pooling1d_4 (MaxPooling1 (None, 32, 64)            0         \n",
      "_________________________________________________________________\n",
      "conv1d_21 (Conv1D)           (None, 32, 64)            28736     \n",
      "_________________________________________________________________\n",
      "max_pooling1d_5 (MaxPooling1 (None, 16, 64)            0         \n",
      "_________________________________________________________________\n",
      "conv1d_22 (Conv1D)           (None, 16, 64)            28736     \n",
      "_________________________________________________________________\n",
      "max_pooling1d_6 (MaxPooling1 (None, 8, 64)             0         \n",
      "_________________________________________________________________\n",
      "flatten_3 (Flatten)          (None, 512)               0         \n",
      "_________________________________________________________________\n",
      "dense_6 (Dense)              (None, 128)               65664     \n",
      "_________________________________________________________________\n",
      "dropout_5 (Dropout)          (None, 128)               0         \n",
      "_________________________________________________________________\n",
      "dense_7 (Dense)              (None, 128)               16512     \n",
      "_________________________________________________________________\n",
      "dropout_6 (Dropout)          (None, 128)               0         \n",
      "_________________________________________________________________\n",
      "dense_8 (Dense)              (None, 7)                 903       \n",
      "=================================================================\n",
      "Total params: 256,455\n",
      "Trainable params: 256,455\n",
      "Non-trainable params: 0\n",
      "_________________________________________________________________\n"
     ]
    }
   ],
   "source": [
    "name_network = \"RMLCNNVGG\"\n",
    "\n",
    "model = getattr(neural_nets_keras,'get_{}'.format(name_network))(input_shp,output_shp)\n",
    "model.summary()"
   ]
  },
  {
   "cell_type": "code",
   "execution_count": null,
   "metadata": {},
   "outputs": [],
   "source": [
    "model.compile(loss='categorical_crossentropy',optimizer='adam',metrics=['accuracy'])\n",
    "train_model(model, name_network)"
   ]
  },
  {
   "cell_type": "markdown",
   "metadata": {},
   "source": [
    "### RMLResNet\n",
    "Generate RML Residual Network  as defined in O'Shea et Al., <i> Over-the-Air Deep Learning Based Radio Signal Classification</i>,  2018. \n",
    "The implementation is an adaptation of https://github.com/liuzhejun/ResNet-for-Radio-Recognition/blob/master/ResNet_Model.ipynb\n"
   ]
  },
  {
   "cell_type": "code",
   "execution_count": 20,
   "metadata": {},
   "outputs": [
    {
     "name": "stdout",
     "output_type": "stream",
     "text": [
      "Model: \"model_1\"\n",
      "__________________________________________________________________________________________________\n",
      "Layer (type)                    Output Shape         Param #     Connected to                     \n",
      "==================================================================================================\n",
      "input_2 (InputLayer)            [(None, 1024, 2)]    0                                            \n",
      "__________________________________________________________________________________________________\n",
      "reshape_1 (Reshape)             (None, 1024, 2, 1)   0           input_2[0][0]                    \n",
      "__________________________________________________________________________________________________\n",
      "ReStk1_conv1 (Conv2D)           (None, 1024, 2, 32)  64          reshape_1[0][0]                  \n",
      "__________________________________________________________________________________________________\n",
      "ReStk1_conv2 (Conv2D)           (None, 1024, 2, 32)  6176        ReStk1_conv1[0][0]               \n",
      "__________________________________________________________________________________________________\n",
      "ReStk1_conv3 (Conv2D)           (None, 1024, 2, 32)  6176        ReStk1_conv2[0][0]               \n",
      "__________________________________________________________________________________________________\n",
      "add_4 (Add)                     (None, 1024, 2, 32)  0           ReStk1_conv3[0][0]               \n",
      "                                                                 ReStk1_conv1[0][0]               \n",
      "__________________________________________________________________________________________________\n",
      "activation_4 (Activation)       (None, 1024, 2, 32)  0           add_4[0][0]                      \n",
      "__________________________________________________________________________________________________\n",
      "ReStk1_conv4 (Conv2D)           (None, 1024, 2, 32)  6176        activation_4[0][0]               \n",
      "__________________________________________________________________________________________________\n",
      "ReStk1_conv5 (Conv2D)           (None, 1024, 2, 32)  6176        ReStk1_conv4[0][0]               \n",
      "__________________________________________________________________________________________________\n",
      "add_5 (Add)                     (None, 1024, 2, 32)  0           ReStk1_conv5[0][0]               \n",
      "                                                                 activation_4[0][0]               \n",
      "__________________________________________________________________________________________________\n",
      "activation_5 (Activation)       (None, 1024, 2, 32)  0           add_5[0][0]                      \n",
      "__________________________________________________________________________________________________\n",
      "max_pooling2d (MaxPooling2D)    (None, 512, 1, 32)   0           activation_5[0][0]               \n",
      "__________________________________________________________________________________________________\n",
      "ReStk2_conv1 (Conv2D)           (None, 512, 1, 32)   1056        max_pooling2d[0][0]              \n",
      "__________________________________________________________________________________________________\n",
      "ReStk2_conv2 (Conv2D)           (None, 512, 1, 32)   6176        ReStk2_conv1[0][0]               \n",
      "__________________________________________________________________________________________________\n",
      "ReStk2_conv3 (Conv2D)           (None, 512, 1, 32)   6176        ReStk2_conv2[0][0]               \n",
      "__________________________________________________________________________________________________\n",
      "add_6 (Add)                     (None, 512, 1, 32)   0           ReStk2_conv3[0][0]               \n",
      "                                                                 ReStk2_conv1[0][0]               \n",
      "__________________________________________________________________________________________________\n",
      "activation_6 (Activation)       (None, 512, 1, 32)   0           add_6[0][0]                      \n",
      "__________________________________________________________________________________________________\n",
      "ReStk2_conv4 (Conv2D)           (None, 512, 1, 32)   6176        activation_6[0][0]               \n",
      "__________________________________________________________________________________________________\n",
      "ReStk2_conv5 (Conv2D)           (None, 512, 1, 32)   6176        ReStk2_conv4[0][0]               \n",
      "__________________________________________________________________________________________________\n",
      "add_7 (Add)                     (None, 512, 1, 32)   0           ReStk2_conv5[0][0]               \n",
      "                                                                 activation_6[0][0]               \n",
      "__________________________________________________________________________________________________\n",
      "activation_7 (Activation)       (None, 512, 1, 32)   0           add_7[0][0]                      \n",
      "__________________________________________________________________________________________________\n",
      "max_pooling2d_1 (MaxPooling2D)  (None, 256, 1, 32)   0           activation_7[0][0]               \n",
      "__________________________________________________________________________________________________\n",
      "ReStk3_conv1 (Conv2D)           (None, 256, 1, 32)   1056        max_pooling2d_1[0][0]            \n",
      "__________________________________________________________________________________________________\n",
      "ReStk3_conv2 (Conv2D)           (None, 256, 1, 32)   6176        ReStk3_conv1[0][0]               \n",
      "__________________________________________________________________________________________________\n",
      "ReStk3_conv3 (Conv2D)           (None, 256, 1, 32)   6176        ReStk3_conv2[0][0]               \n",
      "__________________________________________________________________________________________________\n",
      "add_8 (Add)                     (None, 256, 1, 32)   0           ReStk3_conv3[0][0]               \n",
      "                                                                 ReStk3_conv1[0][0]               \n",
      "__________________________________________________________________________________________________\n",
      "activation_8 (Activation)       (None, 256, 1, 32)   0           add_8[0][0]                      \n",
      "__________________________________________________________________________________________________\n",
      "ReStk3_conv4 (Conv2D)           (None, 256, 1, 32)   6176        activation_8[0][0]               \n",
      "__________________________________________________________________________________________________\n",
      "ReStk3_conv5 (Conv2D)           (None, 256, 1, 32)   6176        ReStk3_conv4[0][0]               \n",
      "__________________________________________________________________________________________________\n",
      "add_9 (Add)                     (None, 256, 1, 32)   0           ReStk3_conv5[0][0]               \n",
      "                                                                 activation_8[0][0]               \n",
      "__________________________________________________________________________________________________\n",
      "activation_9 (Activation)       (None, 256, 1, 32)   0           add_9[0][0]                      \n",
      "__________________________________________________________________________________________________\n",
      "max_pooling2d_2 (MaxPooling2D)  (None, 128, 1, 32)   0           activation_9[0][0]               \n",
      "__________________________________________________________________________________________________\n",
      "ReStk4_conv1 (Conv2D)           (None, 128, 1, 32)   1056        max_pooling2d_2[0][0]            \n",
      "__________________________________________________________________________________________________\n",
      "ReStk4_conv2 (Conv2D)           (None, 128, 1, 32)   6176        ReStk4_conv1[0][0]               \n",
      "__________________________________________________________________________________________________\n",
      "ReStk4_conv3 (Conv2D)           (None, 128, 1, 32)   6176        ReStk4_conv2[0][0]               \n",
      "__________________________________________________________________________________________________\n",
      "add_10 (Add)                    (None, 128, 1, 32)   0           ReStk4_conv3[0][0]               \n",
      "                                                                 ReStk4_conv1[0][0]               \n",
      "__________________________________________________________________________________________________\n",
      "activation_10 (Activation)      (None, 128, 1, 32)   0           add_10[0][0]                     \n",
      "__________________________________________________________________________________________________\n",
      "ReStk4_conv4 (Conv2D)           (None, 128, 1, 32)   6176        activation_10[0][0]              \n",
      "__________________________________________________________________________________________________\n",
      "ReStk4_conv5 (Conv2D)           (None, 128, 1, 32)   6176        ReStk4_conv4[0][0]               \n",
      "__________________________________________________________________________________________________\n",
      "add_11 (Add)                    (None, 128, 1, 32)   0           ReStk4_conv5[0][0]               \n",
      "                                                                 activation_10[0][0]              \n",
      "__________________________________________________________________________________________________\n",
      "activation_11 (Activation)      (None, 128, 1, 32)   0           add_11[0][0]                     \n",
      "__________________________________________________________________________________________________\n",
      "max_pooling2d_3 (MaxPooling2D)  (None, 64, 1, 32)    0           activation_11[0][0]              \n",
      "__________________________________________________________________________________________________\n",
      "ReStk5_conv1 (Conv2D)           (None, 64, 1, 32)    1056        max_pooling2d_3[0][0]            \n",
      "__________________________________________________________________________________________________\n",
      "ReStk5_conv2 (Conv2D)           (None, 64, 1, 32)    6176        ReStk5_conv1[0][0]               \n",
      "__________________________________________________________________________________________________\n",
      "ReStk5_conv3 (Conv2D)           (None, 64, 1, 32)    6176        ReStk5_conv2[0][0]               \n",
      "__________________________________________________________________________________________________\n",
      "add_12 (Add)                    (None, 64, 1, 32)    0           ReStk5_conv3[0][0]               \n",
      "                                                                 ReStk5_conv1[0][0]               \n",
      "__________________________________________________________________________________________________\n",
      "activation_12 (Activation)      (None, 64, 1, 32)    0           add_12[0][0]                     \n",
      "__________________________________________________________________________________________________\n",
      "ReStk5_conv4 (Conv2D)           (None, 64, 1, 32)    6176        activation_12[0][0]              \n",
      "__________________________________________________________________________________________________\n",
      "ReStk5_conv5 (Conv2D)           (None, 64, 1, 32)    6176        ReStk5_conv4[0][0]               \n",
      "__________________________________________________________________________________________________\n",
      "add_13 (Add)                    (None, 64, 1, 32)    0           ReStk5_conv5[0][0]               \n",
      "                                                                 activation_12[0][0]              \n",
      "__________________________________________________________________________________________________\n",
      "activation_13 (Activation)      (None, 64, 1, 32)    0           add_13[0][0]                     \n",
      "__________________________________________________________________________________________________\n",
      "max_pooling2d_4 (MaxPooling2D)  (None, 32, 1, 32)    0           activation_13[0][0]              \n",
      "__________________________________________________________________________________________________\n",
      "ReStk6_conv1 (Conv2D)           (None, 32, 1, 32)    1056        max_pooling2d_4[0][0]            \n",
      "__________________________________________________________________________________________________\n",
      "ReStk6_conv2 (Conv2D)           (None, 32, 1, 32)    6176        ReStk6_conv1[0][0]               \n",
      "__________________________________________________________________________________________________\n",
      "ReStk6_conv3 (Conv2D)           (None, 32, 1, 32)    6176        ReStk6_conv2[0][0]               \n",
      "__________________________________________________________________________________________________\n",
      "add_14 (Add)                    (None, 32, 1, 32)    0           ReStk6_conv3[0][0]               \n",
      "                                                                 ReStk6_conv1[0][0]               \n",
      "__________________________________________________________________________________________________\n",
      "activation_14 (Activation)      (None, 32, 1, 32)    0           add_14[0][0]                     \n",
      "__________________________________________________________________________________________________\n",
      "ReStk6_conv4 (Conv2D)           (None, 32, 1, 32)    6176        activation_14[0][0]              \n",
      "__________________________________________________________________________________________________\n",
      "ReStk6_conv5 (Conv2D)           (None, 32, 1, 32)    6176        ReStk6_conv4[0][0]               \n",
      "__________________________________________________________________________________________________\n",
      "add_15 (Add)                    (None, 32, 1, 32)    0           ReStk6_conv5[0][0]               \n",
      "                                                                 activation_14[0][0]              \n",
      "__________________________________________________________________________________________________\n",
      "activation_15 (Activation)      (None, 32, 1, 32)    0           add_15[0][0]                     \n",
      "__________________________________________________________________________________________________\n",
      "max_pooling2d_5 (MaxPooling2D)  (None, 16, 1, 32)    0           activation_15[0][0]              \n",
      "__________________________________________________________________________________________________\n",
      "flatten_4 (Flatten)             (None, 512)          0           max_pooling2d_5[0][0]            \n",
      "__________________________________________________________________________________________________\n",
      "dense1 (Dense)                  (None, 128)          65664       flatten_4[0][0]                  \n",
      "__________________________________________________________________________________________________\n",
      "alpha_dropout (AlphaDropout)    (None, 128)          0           dense1[0][0]                     \n",
      "__________________________________________________________________________________________________\n",
      "dense2 (Dense)                  (None, 128)          16512       alpha_dropout[0][0]              \n",
      "__________________________________________________________________________________________________\n",
      "alpha_dropout_1 (AlphaDropout)  (None, 128)          0           dense2[0][0]                     \n",
      "__________________________________________________________________________________________________\n",
      "dense3 (Dense)                  (None, 7)            903         alpha_dropout_1[0][0]            \n",
      "==================================================================================================\n",
      "Total params: 236,647\n",
      "Trainable params: 236,647\n",
      "Non-trainable params: 0\n",
      "__________________________________________________________________________________________________\n"
     ]
    }
   ],
   "source": [
    "name_network = \"RMLResNet\"\n",
    "\n",
    "model = getattr(neural_nets_keras,'get_{}'.format(name_network))(input_shp,output_shp)\n",
    "model.summary()"
   ]
  },
  {
   "cell_type": "code",
   "execution_count": null,
   "metadata": {},
   "outputs": [],
   "source": [
    "model.compile(loss='categorical_crossentropy',optimizer='adam',metrics=['accuracy'])\n",
    "train_model(model, name_network)"
   ]
  },
  {
   "cell_type": "markdown",
   "metadata": {},
   "source": [
    "## Results and comparisons"
   ]
  },
  {
   "cell_type": "code",
   "execution_count": 21,
   "metadata": {},
   "outputs": [],
   "source": [
    "from_name_to_legend = {\n",
    "    'RMLConvNet':'RML-ConvNet',\n",
    "    'RMLCNNVGG':'RML-CNN/VGG',\n",
    "    'RMLResNet':'RML-ResNet',\n",
    "    'LModCNN':'Mod-LCNN (ours)',\n",
    "    'LModCNNResNetRelu':'Mod-LRCNN (ours)',\n",
    "}\n",
    "\n",
    "networks_to_plot = ['RMLConvNet','RMLCNNVGG','RMLResNet','LModCNN','LModCNNResNetRelu' ]"
   ]
  },
  {
   "cell_type": "markdown",
   "metadata": {},
   "source": [
    "### Plot training trajectories\n",
    "\n",
    "Plots the evolution of error through learning epochs both for train and test dataset."
   ]
  },
  {
   "cell_type": "code",
   "execution_count": 22,
   "metadata": {},
   "outputs": [
    {
     "data": {
      "image/png": "[encoded data removed]",
      "text/plain": [
       "<Figure size 720x432 with 1 Axes>"
      ]
     },
     "metadata": {
      "needs_background": "light"
     },
     "output_type": "display_data"
    }
   ],
   "source": [
    "plt.figure(figsize=(10,6))\n",
    "\n",
    "for name_network in networks_to_plot:\n",
    "\n",
    "    data = np.loadtxt(join(log_path,'history-{}-{}-trained{}.txt'.format(dataset_name,name_network,signal_duration)))\n",
    "\n",
    "    p = plt.plot(data[:,0], 1.-data[:,1],\n",
    "        label=from_name_to_legend[name_network],linewidth=2)\n",
    "    plt.plot(data[:,0], 1.-data[:,2],':',\n",
    "        linewidth=2,color=p[0].get_color(),alpha=0.8)\n",
    "\n",
    "plt.plot(data[:,0] ,1.-1./output_shp*np.ones_like(data[:,0]),\n",
    "    '--',label='Random classifier',linewidth=2,color='black')\n",
    "\n",
    "plt.legend(ncol=2,loc=1)\n",
    "plt.grid()\n",
    "plt.ylabel('Error = 1-Accuracy')\n",
    "plt.xlabel('Epochs')\n",
    "plt.title(f'Data set: {dataset_name}, Samples per signal: {signal_duration}')\n",
    "plt.ylim([0.,1.])\n",
    "plt.xlim([1,nb_epoch])\n",
    "plt.savefig(join(log_path,'network_comparison_{}-trained{}.pdf'.format(dataset_name,signal_duration)))\n",
    "plt.show()"
   ]
  },
  {
   "cell_type": "markdown",
   "metadata": {},
   "source": [
    "Solid curves are for the test set and dotted curves for the training set\n",
    "\n",
    "Lower is better"
   ]
  },
  {
   "cell_type": "markdown",
   "metadata": {},
   "source": [
    "### Print final performances\n",
    "\n",
    "Displays test accuracy for different algorithmes and train/test computation time"
   ]
  },
  {
   "cell_type": "code",
   "execution_count": null,
   "metadata": {},
   "outputs": [],
   "source": [
    "f = open(join(log_path,'perfs-{}-{}-trained{}.txt'.format(dataset_name,'all',signal_duration)), 'w')\n",
    "\n",
    "f.write(f'#Performance evaluations, Data set: {dataset_name}, Samples per signal: {signal_duration}\\n')\n",
    "    \n",
    "f.write(f\"#{'':20s}{'Loss':15s}{'Accuracy':15s}{'Training time':20s}{'Inference time':20s}{'# Parameters':15s}\\n\")\n",
    "f.write(f\"#{'':20s}{'':15s}{'':15s}{'(s/epoch)':20s}{'(ms/signal)':20s}\\n\")\n",
    "f.write(f\"#{'-'*110}\\n\")\n",
    "\n",
    "for name_network in from_name_to_legend.keys():\n",
    "    \n",
    "    training_time_vec=  np.loadtxt(join(log_path,'history_time-{}-{}-trained{}.txt'.format(dataset_name,name_network,signal_duration)))\n",
    "    training_time = training_time_vec[:,1].mean()\n",
    "    \n",
    "    model = load_model(join(log_path,'model-{}-{}-trained{}.h5'.format(dataset_name,name_network,signal_duration)))\n",
    "    mod_size = model.count_params()\n",
    "   \n",
    "    t = time.time()\n",
    "    test_loss, test_acc = model.evaluate(X_test, y_test,\n",
    "        verbose=False,batch_size=batch_size)\n",
    "    t_proc= 1000.0*(time.time()-t)/X_test.shape[0] #ms\n",
    "\n",
    "    f.write(f\"{from_name_to_legend[name_network]:20s}{test_loss:2.3f}{'':10s}{test_acc:2.3f}{'':10s}{training_time:>4.1f}{'':17s}{t_proc:>4.2}{'':16s}{mod_size:>10,d}\\n\")\n",
    "\n",
    "f.close()"
   ]
  },
  {
   "cell_type": "code",
   "execution_count": 24,
   "metadata": {},
   "outputs": [
    {
     "name": "stdout",
     "output_type": "stream",
     "text": [
      "#Performance evaluations, Data set: AugMod, Samples per signal: 1024\n",
      "#                    Loss           Accuracy       Training time       Inference time      # Parameters   \n",
      "#                                                  (s/epoch)           (ms/signal)         \n",
      "#--------------------------------------------------------------------------------------------------------------\n",
      "RML-ConvNet         0.849          0.713          49.6                 0.19                21,179,479\n",
      "RML-CNN/VGG         1.946          0.141          10.4                 0.25                   256,455\n",
      "RML-ResNet          1.329          0.801          31.3                 0.48                   236,647\n",
      "Mod-LCNN (ours)     0.352          0.849           9.4                 0.15                    37,487\n",
      "\n"
     ]
    }
   ],
   "source": [
    "f = open(join(log_path,'perfs-{}-{}-trained{}.txt'.format(dataset_name,'all',signal_duration)), 'r')\n",
    "print(f.read())\n",
    "f.close()"
   ]
  },
  {
   "cell_type": "code",
   "execution_count": 25,
   "metadata": {},
   "outputs": [],
   "source": [
    "clear_session()"
   ]
  }
 ],
 "metadata": {
  "kernelspec": {
   "display_name": "Python 3",
   "language": "python",
   "name": "python3"
  },
  "language_info": {
   "codemirror_mode": {
    "name": "ipython",
    "version": 3
   },
   "file_extension": ".py",
   "mimetype": "text/x-python",
   "name": "python",
   "nbconvert_exporter": "python",
   "pygments_lexer": "ipython3",
   "version": "3.7.9"
  }
 },
 "nbformat": 4,
 "nbformat_minor": 2
}
